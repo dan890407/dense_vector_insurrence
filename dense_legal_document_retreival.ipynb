{
 "cells": [
  {
   "cell_type": "code",
   "execution_count": 1,
   "id": "67e3e150",
   "metadata": {},
   "outputs": [],
   "source": [
    "import json \n",
    "\n",
    "with open('判決書資料_keybert_filtered.json') as f:\n",
    "    data = json.load(f)"
   ]
  },
  {
   "cell_type": "code",
   "execution_count": 1,
   "id": "89eebac4-9557-407f-a3e8-f003e2adadcf",
   "metadata": {},
   "outputs": [
    {
     "ename": "ModuleNotFoundError",
     "evalue": "No module named 'keybert'",
     "output_type": "error",
     "traceback": [
      "\u001b[1;31m---------------------------------------------------------------------------\u001b[0m",
      "\u001b[1;31mModuleNotFoundError\u001b[0m                       Traceback (most recent call last)",
      "\u001b[1;32mc:\\Users\\Dan\\Desktop\\工研院6_7\\dense_legal_document_retreival.ipynb Cell 2\u001b[0m in \u001b[0;36m1\n\u001b[1;32m----> <a href='vscode-notebook-cell:/c%3A/Users/Dan/Desktop/%E5%B7%A5%E7%A0%94%E9%99%A26_7/dense_legal_document_retreival.ipynb#W1sZmlsZQ%3D%3D?line=0'>1</a>\u001b[0m \u001b[39mfrom\u001b[39;00m \u001b[39mkeybert\u001b[39;00m \u001b[39mimport\u001b[39;00m KeyBERT\n\u001b[0;32m      <a href='vscode-notebook-cell:/c%3A/Users/Dan/Desktop/%E5%B7%A5%E7%A0%94%E9%99%A26_7/dense_legal_document_retreival.ipynb#W1sZmlsZQ%3D%3D?line=1'>2</a>\u001b[0m \u001b[39mfrom\u001b[39;00m \u001b[39mudicOpenData\u001b[39;00m\u001b[39m.\u001b[39;00m\u001b[39mstopwords\u001b[39;00m \u001b[39mimport\u001b[39;00m \u001b[39m*\u001b[39m\n\u001b[0;32m      <a href='vscode-notebook-cell:/c%3A/Users/Dan/Desktop/%E5%B7%A5%E7%A0%94%E9%99%A26_7/dense_legal_document_retreival.ipynb#W1sZmlsZQ%3D%3D?line=2'>3</a>\u001b[0m \u001b[39mfrom\u001b[39;00m \u001b[39mtransformers\u001b[39;00m \u001b[39mimport\u001b[39;00m BertTokenizerFast, pipeline, AutoModel\n",
      "\u001b[1;31mModuleNotFoundError\u001b[0m: No module named 'keybert'"
     ]
    }
   ],
   "source": [
    "from keybert import KeyBERT\n",
    "from udicOpenData.stopwords import *\n",
    "from transformers import BertTokenizerFast, pipeline, AutoModel\n",
    "import torch\n",
    "from tqdm.notebook import tqdm\n",
    "\n",
    "tokenizer = BertTokenizerFast.from_pretrained('bert-base-chinese')\n",
    "# ner = pipeline(\"ner\", model=\"ckiplab/bert-base-chinese-ner\", tokenizer = tokenizer, device = 0)\n",
    "ner = pipeline(\"ner\", model=\"xiaxy/elastic-bert-chinese-ner\", tokenizer = tokenizer, device = 0)\n",
    "\n",
    "def keyword_cleaner(keywords):\n",
    "    new_keywords = keywords.copy()\n",
    "    for keyword in keywords:\n",
    "        results = ner(keyword)\n",
    "        for res in results:\n",
    "            if \"GPE\" in res[\"entity\"] or \"PERSON\" in res[\"entity\"] or \"DATE\" in res[\"entity\"] or \"TIME\" in res[\"entity\"]:\n",
    "                new_keywords.remove(keyword)\n",
    "                break\n",
    "    return new_keywords\n",
    "    \n",
    "def deep_key_extraction(passage, topk=25):\n",
    "    model = KeyBERT('paraphrase-multilingual-MiniLM-L12-v2')\n",
    "    word_and_tag = list(rmsw(passage, flag=True))\n",
    "    # print(word_and_tag)\n",
    "    _temp = list(filter(lambda x: x[1]!='nr' and x[1]!='ng', word_and_tag))\n",
    "    # print(_temp)\n",
    "    # Extract keywords from a Chinese text\n",
    "    text = \" \".join(list(map(lambda x:x[0], _temp)))\n",
    "    keywords = model.extract_keywords(text, keyphrase_ngram_range=(1,1), stop_words=None, use_mmr=True, use_maxsum=False, top_n=100)\n",
    "    keywords = list(map(lambda x:x[0], keywords))\n",
    "    keywords = keyword_cleaner(keywords[:topk])\n",
    "    return keywords"
   ]
  },
  {
   "attachments": {},
   "cell_type": "markdown",
   "id": "f2e2c6ee",
   "metadata": {},
   "source": [
    "###### 一、李碧雲、李碧芳及李沈宏均為李錦樟之子女，詎李碧雲、李碧芳明知李沈宏已於民國103年7月6日因病死亡，權利能力業已終止，死亡後存款為全體繼承人之財產，須填寫繼承存款申請書經全部繼承人蓋章同意後始得提領，詎李碧雲、李碧芳共同基於行使偽造私文書、意圖為李錦樟不法所有之犯意聯絡，未得李沈宏全體法定繼承人之同意，於翌（7）日持李沈宏之印章、存摺至新竹縣湖口鄉農會，盜用李沈宏之印章蓋於取款憑條上，並持向不知情之農會辦事員徐翠雯虛偽表示李沈宏欲將該農會帳號：00000000000000號帳戶內現金新臺幣（下同）110萬1,400元匯款至李錦樟之該農會帳號：00000000000000號帳戶內而行使之，致徐翠雯不知李沈宏已死亡而陷於錯誤，依被告2人之申請辦理，使李錦樟取得前開金額，足生損害於李沈宏法定繼承人李忠桓、李松畇、李畋鵬繼承財產之權益，暨湖口鄉農會審核其會員金融帳戶存、提款申請之正確性及財產之損害。嗣經李忠桓於同年月15日至該農會查詢李沈宏帳戶交易紀錄，始悉上情。"
   ]
  },
  {
   "cell_type": "code",
   "execution_count": null,
   "id": "03c8d6a6-b34b-410b-8062-3f236477cbec",
   "metadata": {},
   "outputs": [],
   "source": [
    "corpus_hashtags = []\n",
    "for idx in tqdm(range(len(data))):\n",
    "   res = deep_key_extraction(data[idx][\"contents\"])\n",
    "   corpus_hashtags.append(res)"
   ]
  },
  {
   "cell_type": "code",
   "execution_count": 10,
   "id": "d18feb29-30d2-4b75-a5ab-b2db670434a1",
   "metadata": {},
   "outputs": [],
   "source": [
    "augmented_corpus = []\n",
    "for i, c in enumerate(data):\n",
    "    _corpus={}\n",
    "    _corpus[\"id\"]=i\n",
    "    _corpus[\"content\"]=data[i][\"contents\"]\n",
    "    _corpus[\"hash_tags\"]= \" \".join(corpus_hashtags[i])\n",
    "    augmented_corpus.append(_corpus)"
   ]
  },
  {
   "cell_type": "code",
   "execution_count": 11,
   "id": "2f0cd30d",
   "metadata": {},
   "outputs": [],
   "source": [
    "Data = json.dumps(augmented_corpus, indent = 4, ensure_ascii=False)\n",
    "with open(\"判決書資料_keybert_filtered.json\", 'w', newline='\\n', encoding = \"utf-8\") as f:\n",
    "    f.write(Data)"
   ]
  },
  {
   "attachments": {},
   "cell_type": "markdown",
   "id": "7b32ae56",
   "metadata": {},
   "source": [
    "#### pre - process"
   ]
  },
  {
   "cell_type": "code",
   "execution_count": null,
   "id": "6b3dcfe4",
   "metadata": {},
   "outputs": [],
   "source": [
    "import numpy as np\n",
    "import torch\n",
    "from transformers import BertTokenizer, BertModel\n",
    "from tqdm.auto import tqdm\n",
    "\n",
    "# 初始化BERT模型和tokenizer，并将它们放到GPU上\n",
    "device = torch.device(\"cuda\" if torch.cuda.is_available() else \"cpu\")\n",
    "tokenizer = BertTokenizer.from_pretrained('bert-base-chinese')\n",
    "model = BertModel.from_pretrained('huang0624/TW-ZH-LegalBERT-wwm').to(device)\n",
    "\n",
    "\n",
    "# 将句子转换成dense embedding，并将它们放到CPU上\n",
    "vecs = []\n",
    "for sentence in tqdm(corpus_hashtags):\n",
    "    tokens = tokenizer(sentence, max_length = 256, padding='max_length', truncation=True, return_tensors=\"pt\").to(device)\n",
    "    with torch.no_grad():\n",
    "        output = model(**tokens)[0].cpu().numpy()\n",
    "        vecs.append(output.reshape(-1))\n",
    "\n",
    "vecs = np.vstack(vecs)\n",
    "\n",
    "# 打印dense embedding的形状\n",
    "print(f\"Shape of dense embeddings: {vecs.shape}\")\n",
    "np.save('keybert_filtered.npy', vecs)"
   ]
  },
  {
   "attachments": {},
   "cell_type": "markdown",
   "id": "574f13b5",
   "metadata": {},
   "source": [
    "### Inference"
   ]
  },
  {
   "cell_type": "code",
   "execution_count": 3,
   "id": "43c24b57",
   "metadata": {},
   "outputs": [],
   "source": [
    "import numpy as np \n",
    "vecs = np.load(\"keybert_filtered.npy\")"
   ]
  },
  {
   "cell_type": "code",
   "execution_count": 4,
   "metadata": {},
   "outputs": [
    {
     "name": "stderr",
     "output_type": "stream",
     "text": [
      "Some weights of the model checkpoint at huang0624/TW-ZH-LegalBERT-wwm were not used when initializing BertModel: ['cls.predictions.transform.LayerNorm.weight', 'cls.predictions.transform.dense.bias', 'cls.predictions.transform.LayerNorm.bias', 'cls.predictions.decoder.weight', 'cls.predictions.decoder.bias', 'cls.predictions.bias', 'cls.predictions.transform.dense.weight']\n",
      "- This IS expected if you are initializing BertModel from the checkpoint of a model trained on another task or with another architecture (e.g. initializing a BertForSequenceClassification model from a BertForPreTraining model).\n",
      "- This IS NOT expected if you are initializing BertModel from the checkpoint of a model that you expect to be exactly identical (initializing a BertForSequenceClassification model from a BertForSequenceClassification model).\n",
      "Some weights of BertModel were not initialized from the model checkpoint at huang0624/TW-ZH-LegalBERT-wwm and are newly initialized: ['bert.pooler.dense.weight', 'bert.pooler.dense.bias']\n",
      "You should probably TRAIN this model on a down-stream task to be able to use it for predictions and inference.\n",
      "Building prefix dict from the default dictionary ...\n",
      "Loading model from cache /tmp/jieba.cache\n",
      "Loading model cost 0.366 seconds.\n",
      "Prefix dict has been built successfully.\n",
      "/user_data/.local/lib/python3.8/site-packages/transformers/pipelines/base.py:1043: UserWarning: You seem to be using the pipelines sequentially on GPU. In order to maximize efficiency please use a dataset\n",
      "  warnings.warn(\n"
     ]
    },
    {
     "name": "stdout",
     "output_type": "stream",
     "text": [
      "民國 繼承 繼承人 下同 表示 業已 新臺幣 文書 書經 權益 共同 存摺 子女 明知 取得 偽造 財產 犯意 法定\n",
      "Rank 1: {'id': 877, 'content': '一、李碧雲、李碧芳及李沈宏均為李錦樟之子女，詎李碧雲、李碧芳明知李沈宏已於民國103年7月6日因病死亡，權利能力業已終止，死亡後存款為全體繼承人之財產，須填寫繼承存款申請書經全部繼承人蓋章同意後始得提領，詎李碧雲、李碧芳共同基於行使偽造私文書、意圖為李錦樟不法所有之犯意聯絡，未得李沈宏全體法定繼承人之同意，於翌（7）日持李沈宏之印章、存摺至新竹縣湖口鄉農會，盜用李沈宏之印章蓋於取款憑條上，並持向不知情之農會辦事員徐翠雯虛偽表示李沈宏欲將該農會帳號：00000000000000號帳戶內現金新臺幣（下同）110萬1,400元匯款至李錦樟之該農會帳號：00000000000000號帳戶內而行使之，致徐翠雯不知李沈宏已死亡而陷於錯誤，依被告2人之申請辦理，使李錦樟取得前開金額，足生損害於李沈宏法定繼承人李忠桓、李松畇、李畋鵬繼承財產之權益，暨湖口鄉農會審核其會員金融帳戶存、提款申請之正確性及財產之損害。嗣經李忠桓於同年月15日至該農會查詢李沈宏帳戶交易紀錄，始悉上情。', 'hash_tags': '民國 繼承 繼承人 下同 表示 業已 新臺幣 文書 書經 權益 共同 存摺 子女 明知 取得 偽造 財產 犯意 法定'}, similarity score: 108956.46875\n",
      "Rank 2: {'id': 3546, 'content': '一、陳玉芬、陳秀玲明知其母曾美菊業於民國106年1月21日死亡，權利能力已消滅，不得為任何法律行為之主體，且曾美菊死亡，當時所有財產均變為遺產，其遺產為全體繼承人陳玉芬、陳秀玲、陳啟皜、陳啟緗等當然取得公同共有，陳玉芬、陳秀玲竟基於偽造私文書之犯意聯絡，未經全體繼承人之同意，即利用陳玉芬保管曾美菊所有台新國際商業銀行00000000000000號帳戶（下稱台新銀行帳戶）、遠東國際商業銀行新竹經國分行00000000000000號帳戶（下稱遠東銀行帳務）、元大商業銀行新竹分行00000000000000號帳戶（下稱元大銀行帳戶）之存摺、印章機會，於曾美菊死後之106年1月23日至同年月26日期間，盜蓋曾美菊之印鑑章於匯款憑條後持以行使，提領曾美菊所有之台新銀行帳戶存款新臺幣（下同）10萬元、10萬元、20萬元、遠東銀行帳戶存款10萬元、元大銀行帳戶存款10萬元，共計提領現金60萬元。', 'hash_tags': '民國 經國 繼承人 下稱 下同 遺產 新臺幣 帳務 文書 存摺 明知 偽造 消滅 取得 犯意 財產 印章 主體 死亡 保管'}, similarity score: 80405.1015625\n",
      "Rank 3: {'id': 11990, 'content': '一、林朝閔、林鳳慎係林玉定(已歿)之子、女，林曼雯、林佳慧、林儀婷、林愷祐(其等之父親林朝棟於民國96年6月21日死亡)、林孜芸、林紀騰、林睿彥(其等之父親林朝春於95年6月17日死亡）均為林玉定之孫。林朝閔明知林玉定於109年3月23日死亡後，權利能力已消滅，林玉定所有之財產自斯時起成為遺產，屬全體繼承人公同共有，是林玉定生前向大肚區農會所申辦帳號00000000000000號內之存款，須由全體繼承人填具申請書，或委任代理人，並檢具相關證件，依據繼承之程式，始得提領款項或處分，不得再以林玉定之名義辦理提領款項。詎林朝閔竟基於行使偽造私文書、意圖為自己不法所有而犯詐欺取財之犯意，於109年4月16日上午10時許，持林玉定所有上開大肚區農會帳戶之存摺、印章前往臺中市○○區○○路0段000號大肚區農會，於同日上午10時13分許，在已填寫提款帳號為林玉定之上開大肚區農會帳戶、取款金額為新臺幣（下同）26000元之取款憑條上之存戶簽章欄內，盜蓋上開林玉定之印章而形成「林玉定」之印文1枚，偽造完成表彰林玉定同意自上開林玉定申辦之大肚區農會帳戶提領該款項之私文書後，將上開取款憑條交予不知情之大肚區農會承辦人員而行使之，使該不知情之承辦人員陷於錯誤，誤認林朝閔係有權辦理上開事項權限之人，而予以辦理提款，足以生損害於除林朝閔以外之林玉定其餘繼承人之權益、稅捐稽徵機關對於遺產稽徵之確保，及大肚區農會對於辦理存提款業務之正確性。', 'hash_tags': '民國 繼承 時許 繼承人 交予 下同 印文 新臺幣 委任 遺產 權益 事項 存摺 予以 款項 分許 文書 名義 財產'}, similarity score: 80198.75\n",
      "Rank 4: {'id': 12842, 'content': '一、余水樹為余顯皇、余嘉衛之二伯，余水樹、余顯皇、余嘉衛均係余朱卒（業於民國103年1月22日死亡）之法定繼承人。余水樹明知其母親余朱卒死亡後所遺留之存款屬於全體繼承人所公同共有，在遺產分割之前，須經全體繼承人同意或授權始得處分，竟基於意圖為自己不法所有及行使偽造私文書之犯意，於103年1月22日下午3時8分許及同年3月3日上午11時51分許，持其保管余朱卒所有宜蘭縣壯圍鄉農會（下稱壯圍鄉農會）帳戶0000000000號之存摺、印章，前往壯圍鄉農會，冒用余朱卒之名義，在存摺類存款取款憑條上，分別填載提款金額新臺幣（下同）101500元、1600元後，再盜蓋余朱卒之印章，以偽造余朱卒名義辦理存款提領之私文書，再交予不知情之農會經辦人員以為行使，致該經辦人員誤認余水樹係經余朱卒授權辦理，而將余朱卒所有在壯圍鄉農會前開帳戶內之現金101500元、1600元交付余水樹，足生損害於其他合法繼承人對遺產之管理處分權及壯圍鄉農會對存戶存款管理之正確性，', 'hash_tags': '民國 下稱 交予 下同 繼承人 分許 新臺幣 存摺 授權 分權 文書 遺產 明知 法定 足生 經辦 偽造 屬於 保管 辦理 合法 須經'}, similarity score: 79510.71875\n",
      "Rank 5: {'id': 9925, 'content': '一、緣朱\\ue24f粗依序育有朱再興、朱淑惠、朱阿昭、朱平舜、朱國賓、朱天送、朱娟宛等7名子女，朱\\ue24f粗於民國105年10月21日死亡，而朱\\ue24f粗生前已將其苗栗縣南龍區漁會（下稱南龍區漁會）帳號00000-00-000000-0帳戶之存摺、印鑑交由朱天送保管。詎朱天送明知其父朱\\ue24f粗死亡後，名下財產均為遺產，於遺產分割前屬全體繼承人公同共有，若未經全體繼承人同意，不得擅自處分之，竟為支付朱\\ue24f粗之喪葬費用而便宜行事，趁保管朱\\ue24f粗上開存摺及印章之便，在未經全體繼承人之同意或授權下，基於行使偽造私文書之犯意，於105年10月24日，持前揭朱\\ue24f粗之南龍區漁會帳戶存摺、印章至南龍區漁會，填寫金額新臺幣（下同）2萬7000元之取款憑條1紙，並在取款憑條蓋上朱\\ue24f粗之印章印文1枚，而偽造以朱\\ue24f粗名義提款之私文書，再持以交付予不知朱\\ue24f粗已死亡之南龍區漁會承辦人員而行使之，足以生損害於其餘繼承人之繼承權及南龍區漁會對朱\\ue24f粗帳戶資料管理之正確性。', 'hash_tags': '民國 下同 下稱 已將 名下 印文 新臺幣 交由 育有 存摺 印章 竟為 明知 繼承人 文書 持以 子女 授權 偽造'}, similarity score: 79312.3125\n"
     ]
    }
   ],
   "source": [
    "import faiss\n",
    "import numpy as np\n",
    "import torch\n",
    "from transformers import BertTokenizer, BertModel\n",
    "from tqdm.auto import tqdm \n",
    "\n",
    "# 初始化BERT模型和tokenizer，并将它们放到GPU上\n",
    "device = torch.device(\"cuda\" if torch.cuda.is_available() else \"cpu\")\n",
    "tokenizer = BertTokenizer.from_pretrained('bert-base-chinese')\n",
    "model = BertModel.from_pretrained('huang0624/TW-ZH-LegalBERT-wwm').to(device)\n",
    "# 要比較的句子\n",
    "query = \"一、李碧雲、李碧芳及李沈宏均為李錦樟之子女，詎李碧雲、李碧芳明知李沈宏已於民國103年7月6日因病死亡，權利能力業已終止，死亡後存款為全體繼承人之財產，須填寫繼承存款申請書經全部繼承人蓋章同意後始得提領，詎李碧雲、李碧芳共同基於行使偽造私文書、意圖為李錦樟不法所有之犯意聯絡，未得李沈宏全體法定繼承人之同意，於翌（7）日持李沈宏之印章、存摺至新竹縣湖口鄉農會，盜用李沈宏之印章蓋於取款憑條上，並持向不知情之農會辦事員徐翠雯虛偽表示李沈宏欲將該農會帳號：00000000000000號帳戶內現金新臺幣（下同）110萬1,400元匯款至李錦樟之該農會帳號：00000000000000號帳戶內而行使之，致徐翠雯不知李沈宏已死亡而陷於錯誤，依被告2人之申請辦理，使李錦樟取得前開金額，足生損害於李沈宏法定繼承人李忠桓、李松畇、李畋鵬繼承財產之權益，暨湖口鄉農會審核其會員金融帳戶存、提款申請之正確性及財產之損害。嗣經李忠桓於同年月15日至該農會查詢李沈宏帳戶交易紀錄，始悉上情。\"\n",
    "query_text = \" \".join(deep_key_extraction(query))\n",
    "print(query_text)\n",
    "# 將要比較的句子轉換成dense embedding\n",
    "device = torch.device(\"cuda\" if torch.cuda.is_available() else \"cpu\")\n",
    "tokens = tokenizer(query_text, max_length = 256, padding='max_length', truncation=True, return_tensors=\"pt\").to(device)\n",
    "with torch.no_grad():\n",
    "    query_vec = model(**tokens)[0].cpu().numpy().reshape(-1)\n",
    "\n",
    "# 計算query與向量庫中所有向量的相似度\n",
    "index = faiss.IndexFlatIP(vecs.shape[1])\n",
    "index.add(vecs)\n",
    "distances, indices = index.search(np.array([query_vec]), k=5)\n",
    "\n",
    "# 打印出相似度最高的前5筆資料\n",
    "for i, index in enumerate(indices[0]):\n",
    "    print(f\"Rank {i+1}: {data[index]}, similarity score: {distances[0][i]}\")\n",
    "    # print(data[index][\"hash_tags\"], \"\\n\\n\")"
   ]
  },
  {
   "cell_type": "code",
   "execution_count": 3,
   "id": "e7caa975",
   "metadata": {},
   "outputs": [],
   "source": []
  }
 ],
 "metadata": {
  "kernelspec": {
   "display_name": "Python 3 (ipykernel)",
   "language": "python",
   "name": "python3"
  },
  "language_info": {
   "codemirror_mode": {
    "name": "ipython",
    "version": 3
   },
   "file_extension": ".py",
   "mimetype": "text/x-python",
   "name": "python",
   "nbconvert_exporter": "python",
   "pygments_lexer": "ipython3",
   "version": "3.10.7"
  }
 },
 "nbformat": 4,
 "nbformat_minor": 5
}
