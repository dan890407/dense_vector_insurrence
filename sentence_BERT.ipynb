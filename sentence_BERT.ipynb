{
 "cells": [
  {
   "cell_type": "code",
   "execution_count": 1,
   "metadata": {},
   "outputs": [
    {
     "name": "stdout",
     "output_type": "stream",
     "text": [
      "Collecting sentence-transformers\n",
      "  Downloading sentence-transformers-2.2.2.tar.gz (85 kB)\n",
      "     -------------------------------------- 86.0/86.0 kB 440.2 kB/s eta 0:00:00\n",
      "  Preparing metadata (setup.py): started\n",
      "  Preparing metadata (setup.py): finished with status 'done'\n",
      "Requirement already satisfied: transformers<5.0.0,>=4.6.0 in c:\\users\\dan\\appdata\\local\\programs\\python\\python310\\lib\\site-packages (from sentence-transformers) (4.23.1)\n",
      "Requirement already satisfied: tqdm in c:\\users\\dan\\appdata\\local\\programs\\python\\python310\\lib\\site-packages (from sentence-transformers) (4.64.1)\n",
      "Requirement already satisfied: torch>=1.6.0 in c:\\users\\dan\\appdata\\local\\programs\\python\\python310\\lib\\site-packages (from sentence-transformers) (1.12.1+cu116)\n",
      "Requirement already satisfied: torchvision in c:\\users\\dan\\appdata\\local\\programs\\python\\python310\\lib\\site-packages (from sentence-transformers) (0.13.1+cu116)\n",
      "Requirement already satisfied: numpy in c:\\users\\dan\\appdata\\local\\programs\\python\\python310\\lib\\site-packages (from sentence-transformers) (1.23.3)\n",
      "Requirement already satisfied: scikit-learn in c:\\users\\dan\\appdata\\local\\programs\\python\\python310\\lib\\site-packages (from sentence-transformers) (1.1.2)\n",
      "Requirement already satisfied: scipy in c:\\users\\dan\\appdata\\local\\programs\\python\\python310\\lib\\site-packages (from sentence-transformers) (1.8.1)\n",
      "Requirement already satisfied: nltk in c:\\users\\dan\\appdata\\local\\programs\\python\\python310\\lib\\site-packages (from sentence-transformers) (3.7)\n",
      "Requirement already satisfied: sentencepiece in c:\\users\\dan\\appdata\\local\\programs\\python\\python310\\lib\\site-packages (from sentence-transformers) (0.1.97)\n",
      "Requirement already satisfied: huggingface-hub>=0.4.0 in c:\\users\\dan\\appdata\\local\\programs\\python\\python310\\lib\\site-packages (from sentence-transformers) (0.10.1)\n",
      "Requirement already satisfied: filelock in c:\\users\\dan\\appdata\\local\\programs\\python\\python310\\lib\\site-packages (from huggingface-hub>=0.4.0->sentence-transformers) (3.8.0)\n",
      "Requirement already satisfied: requests in c:\\users\\dan\\appdata\\local\\programs\\python\\python310\\lib\\site-packages (from huggingface-hub>=0.4.0->sentence-transformers) (2.28.1)\n",
      "Requirement already satisfied: pyyaml>=5.1 in c:\\users\\dan\\appdata\\local\\programs\\python\\python310\\lib\\site-packages (from huggingface-hub>=0.4.0->sentence-transformers) (6.0)\n",
      "Requirement already satisfied: typing-extensions>=3.7.4.3 in c:\\users\\dan\\appdata\\local\\programs\\python\\python310\\lib\\site-packages (from huggingface-hub>=0.4.0->sentence-transformers) (4.4.0)\n",
      "Requirement already satisfied: packaging>=20.9 in c:\\users\\dan\\appdata\\roaming\\python\\python310\\site-packages (from huggingface-hub>=0.4.0->sentence-transformers) (21.3)\n",
      "Requirement already satisfied: regex!=2019.12.17 in c:\\users\\dan\\appdata\\local\\programs\\python\\python310\\lib\\site-packages (from transformers<5.0.0,>=4.6.0->sentence-transformers) (2022.9.13)\n",
      "Requirement already satisfied: tokenizers!=0.11.3,<0.14,>=0.11.1 in c:\\users\\dan\\appdata\\local\\programs\\python\\python310\\lib\\site-packages (from transformers<5.0.0,>=4.6.0->sentence-transformers) (0.13.1)\n",
      "Requirement already satisfied: colorama in c:\\users\\dan\\appdata\\local\\programs\\python\\python310\\lib\\site-packages (from tqdm->sentence-transformers) (0.4.6)\n",
      "Requirement already satisfied: click in c:\\users\\dan\\appdata\\local\\programs\\python\\python310\\lib\\site-packages (from nltk->sentence-transformers) (8.1.3)\n",
      "Requirement already satisfied: joblib in c:\\users\\dan\\appdata\\local\\programs\\python\\python310\\lib\\site-packages (from nltk->sentence-transformers) (1.2.0)\n",
      "Requirement already satisfied: threadpoolctl>=2.0.0 in c:\\users\\dan\\appdata\\local\\programs\\python\\python310\\lib\\site-packages (from scikit-learn->sentence-transformers) (3.1.0)\n",
      "Requirement already satisfied: pillow!=8.3.*,>=5.3.0 in c:\\users\\dan\\appdata\\local\\programs\\python\\python310\\lib\\site-packages (from torchvision->sentence-transformers) (9.3.0)\n",
      "Requirement already satisfied: pyparsing!=3.0.5,>=2.0.2 in c:\\users\\dan\\appdata\\roaming\\python\\python310\\site-packages (from packaging>=20.9->huggingface-hub>=0.4.0->sentence-transformers) (3.0.9)\n",
      "Requirement already satisfied: charset-normalizer<3,>=2 in c:\\users\\dan\\appdata\\local\\programs\\python\\python310\\lib\\site-packages (from requests->huggingface-hub>=0.4.0->sentence-transformers) (2.1.1)\n",
      "Requirement already satisfied: idna<4,>=2.5 in c:\\users\\dan\\appdata\\local\\programs\\python\\python310\\lib\\site-packages (from requests->huggingface-hub>=0.4.0->sentence-transformers) (2.10)\n",
      "Requirement already satisfied: urllib3<1.27,>=1.21.1 in c:\\users\\dan\\appdata\\local\\programs\\python\\python310\\lib\\site-packages (from requests->huggingface-hub>=0.4.0->sentence-transformers) (1.26.12)\n",
      "Requirement already satisfied: certifi>=2017.4.17 in c:\\users\\dan\\appdata\\local\\programs\\python\\python310\\lib\\site-packages (from requests->huggingface-hub>=0.4.0->sentence-transformers) (2022.9.24)\n",
      "Building wheels for collected packages: sentence-transformers\n",
      "  Building wheel for sentence-transformers (setup.py): started\n",
      "  Building wheel for sentence-transformers (setup.py): finished with status 'done'\n",
      "  Created wheel for sentence-transformers: filename=sentence_transformers-2.2.2-py3-none-any.whl size=125960 sha256=09e927e627539f5a7de90ab1170fdd1f850bed361186f2d688eb3888367b6631\n",
      "  Stored in directory: c:\\users\\dan\\appdata\\local\\pip\\cache\\wheels\\62\\f2\\10\\1e606fd5f02395388f74e7462910fe851042f97238cbbd902f\n",
      "Successfully built sentence-transformers\n",
      "Installing collected packages: sentence-transformers\n",
      "Successfully installed sentence-transformers-2.2.2\n"
     ]
    },
    {
     "name": "stderr",
     "output_type": "stream",
     "text": [
      "WARNING: Ignoring invalid distribution -chu-nlptoolkit (c:\\users\\dan\\appdata\\local\\programs\\python\\python310\\lib\\site-packages)\n",
      "WARNING: Ignoring invalid distribution -chu-nlptoolkit (c:\\users\\dan\\appdata\\local\\programs\\python\\python310\\lib\\site-packages)\n"
     ]
    }
   ],
   "source": [
    "!pip install -U sentence-transformers"
   ]
  },
  {
   "cell_type": "code",
   "execution_count": 2,
   "metadata": {},
   "outputs": [
    {
     "name": "stdout",
     "output_type": "stream",
     "text": [
      "Collecting text2vec\n",
      "  Downloading text2vec-1.1.8.tar.gz (70 kB)\n",
      "     -------------------------------------- 70.8/70.8 kB 203.8 kB/s eta 0:00:00\n",
      "  Preparing metadata (setup.py): started\n",
      "  Preparing metadata (setup.py): finished with status 'done'\n",
      "Requirement already satisfied: jieba>=0.39 in c:\\users\\dan\\appdata\\local\\programs\\python\\python310\\lib\\site-packages (from text2vec) (0.42.1)\n",
      "Collecting loguru (from text2vec)\n",
      "  Downloading loguru-0.7.0-py3-none-any.whl (59 kB)\n",
      "     -------------------------------------- 60.0/60.0 kB 264.4 kB/s eta 0:00:00\n",
      "Requirement already satisfied: transformers>=4.6.0 in c:\\users\\dan\\appdata\\local\\programs\\python\\python310\\lib\\site-packages (from text2vec) (4.23.1)\n",
      "Requirement already satisfied: datasets in c:\\users\\dan\\appdata\\local\\programs\\python\\python310\\lib\\site-packages (from text2vec) (2.7.1)\n",
      "Requirement already satisfied: tqdm in c:\\users\\dan\\appdata\\local\\programs\\python\\python310\\lib\\site-packages (from text2vec) (4.64.1)\n",
      "Requirement already satisfied: scikit-learn in c:\\users\\dan\\appdata\\local\\programs\\python\\python310\\lib\\site-packages (from text2vec) (1.1.2)\n",
      "Requirement already satisfied: gensim>=4.0.0 in c:\\users\\dan\\appdata\\local\\programs\\python\\python310\\lib\\site-packages (from text2vec) (4.2.0)\n",
      "Requirement already satisfied: pandas in c:\\users\\dan\\appdata\\local\\programs\\python\\python310\\lib\\site-packages (from text2vec) (1.5.0)\n",
      "Requirement already satisfied: numpy>=1.17.0 in c:\\users\\dan\\appdata\\local\\programs\\python\\python310\\lib\\site-packages (from gensim>=4.0.0->text2vec) (1.23.3)\n",
      "Requirement already satisfied: scipy>=0.18.1 in c:\\users\\dan\\appdata\\local\\programs\\python\\python310\\lib\\site-packages (from gensim>=4.0.0->text2vec) (1.8.1)\n",
      "Requirement already satisfied: smart-open>=1.8.1 in c:\\users\\dan\\appdata\\local\\programs\\python\\python310\\lib\\site-packages (from gensim>=4.0.0->text2vec) (6.2.0)\n",
      "Requirement already satisfied: Cython==0.29.28 in c:\\users\\dan\\appdata\\local\\programs\\python\\python310\\lib\\site-packages (from gensim>=4.0.0->text2vec) (0.29.28)\n",
      "Requirement already satisfied: filelock in c:\\users\\dan\\appdata\\local\\programs\\python\\python310\\lib\\site-packages (from transformers>=4.6.0->text2vec) (3.8.0)\n",
      "Requirement already satisfied: huggingface-hub<1.0,>=0.10.0 in c:\\users\\dan\\appdata\\local\\programs\\python\\python310\\lib\\site-packages (from transformers>=4.6.0->text2vec) (0.10.1)\n",
      "Requirement already satisfied: packaging>=20.0 in c:\\users\\dan\\appdata\\roaming\\python\\python310\\site-packages (from transformers>=4.6.0->text2vec) (21.3)\n",
      "Requirement already satisfied: pyyaml>=5.1 in c:\\users\\dan\\appdata\\local\\programs\\python\\python310\\lib\\site-packages (from transformers>=4.6.0->text2vec) (6.0)\n",
      "Requirement already satisfied: regex!=2019.12.17 in c:\\users\\dan\\appdata\\local\\programs\\python\\python310\\lib\\site-packages (from transformers>=4.6.0->text2vec) (2022.9.13)\n",
      "Requirement already satisfied: requests in c:\\users\\dan\\appdata\\local\\programs\\python\\python310\\lib\\site-packages (from transformers>=4.6.0->text2vec) (2.28.1)\n",
      "Requirement already satisfied: tokenizers!=0.11.3,<0.14,>=0.11.1 in c:\\users\\dan\\appdata\\local\\programs\\python\\python310\\lib\\site-packages (from transformers>=4.6.0->text2vec) (0.13.1)\n",
      "Requirement already satisfied: colorama in c:\\users\\dan\\appdata\\local\\programs\\python\\python310\\lib\\site-packages (from tqdm->text2vec) (0.4.6)\n",
      "Requirement already satisfied: pyarrow>=6.0.0 in c:\\users\\dan\\appdata\\local\\programs\\python\\python310\\lib\\site-packages (from datasets->text2vec) (10.0.1)\n",
      "Requirement already satisfied: dill<0.3.7 in c:\\users\\dan\\appdata\\local\\programs\\python\\python310\\lib\\site-packages (from datasets->text2vec) (0.3.6)\n",
      "Requirement already satisfied: xxhash in c:\\users\\dan\\appdata\\local\\programs\\python\\python310\\lib\\site-packages (from datasets->text2vec) (3.1.0)\n",
      "Requirement already satisfied: multiprocess in c:\\users\\dan\\appdata\\local\\programs\\python\\python310\\lib\\site-packages (from datasets->text2vec) (0.70.14)\n",
      "Requirement already satisfied: fsspec[http]>=2021.11.1 in c:\\users\\dan\\appdata\\local\\programs\\python\\python310\\lib\\site-packages (from datasets->text2vec) (2022.11.0)\n",
      "Requirement already satisfied: aiohttp in c:\\users\\dan\\appdata\\local\\programs\\python\\python310\\lib\\site-packages (from datasets->text2vec) (3.8.3)\n",
      "Requirement already satisfied: responses<0.19 in c:\\users\\dan\\appdata\\local\\programs\\python\\python310\\lib\\site-packages (from datasets->text2vec) (0.18.0)\n",
      "Collecting win32-setctime>=1.0.0 (from loguru->text2vec)\n",
      "  Downloading win32_setctime-1.1.0-py3-none-any.whl (3.6 kB)\n",
      "Requirement already satisfied: python-dateutil>=2.8.1 in c:\\users\\dan\\appdata\\roaming\\python\\python310\\site-packages (from pandas->text2vec) (2.8.2)\n",
      "Requirement already satisfied: pytz>=2020.1 in c:\\users\\dan\\appdata\\local\\programs\\python\\python310\\lib\\site-packages (from pandas->text2vec) (2022.4)\n",
      "Requirement already satisfied: joblib>=1.0.0 in c:\\users\\dan\\appdata\\local\\programs\\python\\python310\\lib\\site-packages (from scikit-learn->text2vec) (1.2.0)\n",
      "Requirement already satisfied: threadpoolctl>=2.0.0 in c:\\users\\dan\\appdata\\local\\programs\\python\\python310\\lib\\site-packages (from scikit-learn->text2vec) (3.1.0)\n",
      "Requirement already satisfied: attrs>=17.3.0 in c:\\users\\dan\\appdata\\local\\programs\\python\\python310\\lib\\site-packages (from aiohttp->datasets->text2vec) (22.1.0)\n",
      "Requirement already satisfied: charset-normalizer<3.0,>=2.0 in c:\\users\\dan\\appdata\\local\\programs\\python\\python310\\lib\\site-packages (from aiohttp->datasets->text2vec) (2.1.1)\n",
      "Requirement already satisfied: multidict<7.0,>=4.5 in c:\\users\\dan\\appdata\\local\\programs\\python\\python310\\lib\\site-packages (from aiohttp->datasets->text2vec) (6.0.2)\n",
      "Requirement already satisfied: async-timeout<5.0,>=4.0.0a3 in c:\\users\\dan\\appdata\\local\\programs\\python\\python310\\lib\\site-packages (from aiohttp->datasets->text2vec) (4.0.2)\n",
      "Requirement already satisfied: yarl<2.0,>=1.0 in c:\\users\\dan\\appdata\\local\\programs\\python\\python310\\lib\\site-packages (from aiohttp->datasets->text2vec) (1.8.1)\n",
      "Requirement already satisfied: frozenlist>=1.1.1 in c:\\users\\dan\\appdata\\local\\programs\\python\\python310\\lib\\site-packages (from aiohttp->datasets->text2vec) (1.3.1)\n",
      "Requirement already satisfied: aiosignal>=1.1.2 in c:\\users\\dan\\appdata\\local\\programs\\python\\python310\\lib\\site-packages (from aiohttp->datasets->text2vec) (1.2.0)\n",
      "Requirement already satisfied: typing-extensions>=3.7.4.3 in c:\\users\\dan\\appdata\\local\\programs\\python\\python310\\lib\\site-packages (from huggingface-hub<1.0,>=0.10.0->transformers>=4.6.0->text2vec) (4.4.0)\n",
      "Requirement already satisfied: pyparsing!=3.0.5,>=2.0.2 in c:\\users\\dan\\appdata\\roaming\\python\\python310\\site-packages (from packaging>=20.0->transformers>=4.6.0->text2vec) (3.0.9)\n",
      "Requirement already satisfied: six>=1.5 in c:\\users\\dan\\appdata\\roaming\\python\\python310\\site-packages (from python-dateutil>=2.8.1->pandas->text2vec) (1.16.0)\n",
      "Requirement already satisfied: idna<4,>=2.5 in c:\\users\\dan\\appdata\\local\\programs\\python\\python310\\lib\\site-packages (from requests->transformers>=4.6.0->text2vec) (2.10)\n",
      "Requirement already satisfied: urllib3<1.27,>=1.21.1 in c:\\users\\dan\\appdata\\local\\programs\\python\\python310\\lib\\site-packages (from requests->transformers>=4.6.0->text2vec) (1.26.12)\n",
      "Requirement already satisfied: certifi>=2017.4.17 in c:\\users\\dan\\appdata\\local\\programs\\python\\python310\\lib\\site-packages (from requests->transformers>=4.6.0->text2vec) (2022.9.24)\n",
      "Building wheels for collected packages: text2vec\n",
      "  Building wheel for text2vec (setup.py): started\n",
      "  Building wheel for text2vec (setup.py): finished with status 'done'\n",
      "  Created wheel for text2vec: filename=text2vec-1.1.8-py3-none-any.whl size=56558 sha256=e427d1dce52380178f39dc11ca328f5ef6529d5beb30ecbbcb21726967d84bcd\n",
      "  Stored in directory: c:\\users\\dan\\appdata\\local\\pip\\cache\\wheels\\85\\27\\60\\6dc176b368eb5f1b78909026e8a3a6e6aa98d5a40a5b077676\n",
      "Successfully built text2vec\n",
      "Installing collected packages: win32-setctime, loguru, text2vec\n",
      "Successfully installed loguru-0.7.0 text2vec-1.1.8 win32-setctime-1.1.0\n"
     ]
    },
    {
     "name": "stderr",
     "output_type": "stream",
     "text": [
      "WARNING: Ignoring invalid distribution -chu-nlptoolkit (c:\\users\\dan\\appdata\\local\\programs\\python\\python310\\lib\\site-packages)\n",
      "WARNING: Ignoring invalid distribution -chu-nlptoolkit (c:\\users\\dan\\appdata\\local\\programs\\python\\python310\\lib\\site-packages)\n"
     ]
    }
   ],
   "source": [
    "!pip install -U text2vec"
   ]
  },
  {
   "attachments": {},
   "cell_type": "markdown",
   "metadata": {},
   "source": [
    "## sentence BERT"
   ]
  },
  {
   "cell_type": "code",
   "execution_count": 1,
   "metadata": {},
   "outputs": [
    {
     "name": "stderr",
     "output_type": "stream",
     "text": [
      "c:\\Users\\Dan\\AppData\\Local\\Programs\\Python\\Python310\\lib\\site-packages\\tqdm\\auto.py:22: TqdmWarning: IProgress not found. Please update jupyter and ipywidgets. See https://ipywidgets.readthedocs.io/en/stable/user_install.html\n",
      "  from .autonotebook import tqdm as notebook_tqdm\n"
     ]
    }
   ],
   "source": [
    "from transformers import AutoTokenizer, AutoModel\n",
    "\n",
    "tokenizer = AutoTokenizer.from_pretrained(\"shibing624/text2vec-base-chinese\")\n",
    "\n",
    "model = AutoModel.from_pretrained(\"shibing624/text2vec-base-chinese\")"
   ]
  },
  {
   "cell_type": "code",
   "execution_count": 2,
   "metadata": {},
   "outputs": [
    {
     "name": "stdout",
     "output_type": "stream",
     "text": [
      "富邦人壽新平準終身壽險_老年住院醫療提前給付保險金的給付\n"
     ]
    }
   ],
   "source": [
    "import json\n",
    "with open('fubon.json',\"r\",encoding=\"UTF-8\") as f:\n",
    "    corpus_data = json.load(f)\n",
    "\n",
    "documents=dict()\n",
    "for line in corpus_data:\n",
    "    documents.update({list(line.keys())[0]:list(line.values())[0]})\n",
    "corpus = [list(data.keys())[0] for data in corpus_data]\n",
    "print(corpus[0])"
   ]
  },
  {
   "cell_type": "code",
   "execution_count": 3,
   "metadata": {},
   "outputs": [
    {
     "name": "stderr",
     "output_type": "stream",
     "text": [
      "100%|██████████| 1907/1907 [00:25<00:00, 75.11it/s]\n"
     ]
    },
    {
     "name": "stdout",
     "output_type": "stream",
     "text": [
      "Shape of dense embeddings: (1907, 196608)\n"
     ]
    }
   ],
   "source": [
    "import numpy as np\n",
    "import torch\n",
    "from tqdm.auto import tqdm\n",
    "\n",
    "device = torch.device(\"cuda\" if torch.cuda.is_available() else \"cpu\")\n",
    "model = model.to(device)\n",
    "from tqdm import tqdm\n",
    "vecs = []\n",
    "for sentence in tqdm(corpus):\n",
    "    tokens = tokenizer(sentence, max_length = 256, padding='max_length', truncation=True, return_tensors=\"pt\").to(device)\n",
    "    with torch.no_grad():\n",
    "        output = model(**tokens)[0].cpu().numpy()\n",
    "        vecs.append(output.reshape(-1))\n",
    "\n",
    "vecs = np.vstack(vecs)\n",
    "\n",
    "# 打印dense embedding的形状\n",
    "print(f\"Shape of dense embeddings: {vecs.shape}\")\n",
    "np.save('fubon_data_sentencebert.npy', vecs)"
   ]
  },
  {
   "cell_type": "code",
   "execution_count": 4,
   "metadata": {},
   "outputs": [],
   "source": [
    "import numpy as np \n",
    "vecs = np.load(\"fubon_data_sentencebert.npy\")"
   ]
  },
  {
   "cell_type": "code",
   "execution_count": 5,
   "metadata": {},
   "outputs": [
    {
     "name": "stdout",
     "output_type": "stream",
     "text": [
      "身故保險金是什麼?\n",
      "Rank 1: 富邦人壽安心理財人生傷害暨健康一年定期保險_保險範圍：身故保險金或喪葬費用保險金的給付, similarity score: 66209.90625\n",
      "article : \n",
      " 被保險人於本契約有效期間內身故者，本公司按要保人投保計畫別對照附表一所載之金額給付身故保險金或喪葬費用保險金後，本契約效力即行終止。訂立本契約時，以受監護宣告尚未撤銷者為被保險人，其身故保險金變更為喪葬費用保險金。前項被保險人於民國九十九年二月三日（含）以後所投保之喪葬費用保險金額總和（不限本公司），不得超過遺產及贈與稅法第十七條有關遺產稅喪葬費扣除額之半數，其超過部分本公司不負給付責任，本公司並應無息退還該超過部分之已繳保險費。前項情形，如要保人向二家（含）以上保險公司投保，或向同一保險公司投保數個保險契（附）約，且其投保之喪葬費用保險金額合計超過前項所定之限額者，本公司於所承保之喪葬費用金額範圍內，依各要保書所載之要保時間先後，依約給付喪葬費用保險金至前項喪葬費用額度上限為止，如有二家以上保險公司之保險契約要保時間相同或無法區分其要保時間之先後者，各該保險公司應依其喪葬費用保險金額與扣除要保時間在先之保險公司應理賠之金額後所餘之限額比例分擔其責任。\n",
      "Rank 2: 富邦人壽願景人生傷害暨健康一年定期保險_保險範圍：身故保險金或喪葬費用保險金的給付, similarity score: 68176.359375\n",
      "article : \n",
      " 被保險人於本契約有效期間內身故者，本公司按要保人投保計畫別對照附表一所載之金額給付身故保險金或喪葬費用保險金後，本契約效力即行終止。訂立本契約時，以受監護宣告尚未撤銷者為被保險人，其身故保險金變更為喪葬費用保險金。前項被保險人於民國九十九年二月三日（含）以後所投保之喪葬費用保險金額總和（不限本公司），不得超過遺產及贈與稅法第十七條有關遺產稅喪葬費扣除額之半數，其超過部分本公司不負給付責任，本公司並應無息退還該超過部分之已繳保險費。前項情形，如要保人向二家（含）以上保險公司投保，或向同一保險公司投保數個保險契（附）約，且其投保之喪葬費用保險金額合計超過前項所定之限額者，本公司於所承保之喪葬費用金額範圍內，依各要保書所載之要保時間先後，依約給付喪葬費用保險金至前項喪葬費用額度上限為止，如有二家以上保險公司之保險契約要保時間相同或無法區分其要保時間之先後者，各該保險公司應依其喪葬費用保險金額與扣除要保時間在先之保險公司應理賠之金額後所餘之限額比例分擔其責任。\n",
      "Rank 3: 富邦人壽安心456傷害暨健康一年定期保險_保險範圍：身故保險金或喪葬費用保險金的給付, similarity score: 68799.515625\n",
      "article : \n",
      " 被保險人於本契約有效期間內身故者，本公司按附表一所載之金額給付身故保險金或喪葬費用保險金後，本契約效力即行終止。訂立本契約時，以受監護宣告尚未撤銷者為被保險人，其身故保險金變更為喪葬費用保險金。前項被保險人於民國九十九年二月三日（含）以後所投保之喪葬費用保險金額總和（不限本公司），不得超過遺產及贈與稅法第十七條有關遺產稅喪葬費扣除額之半數，其超過部分本公司不負給付責任，本公司並應無息退還該超過部分之已繳保險費。前項情形，如要保人向二家（含）以上保險公司投保，或向同一保險公司投保數個保險契（附）約，且其投保之喪葬費用保險金額合計超過前項所定之限額者，本公司於所承保之喪葬費用金額範圍內，依各要保書所載之要保時間先後，依約給付喪葬費用保險金至前項喪葬費用額度上限為止，如有二家以上保險公司之保險契約要保時間相同或無法區分其要保時間之先後者，各該保險公司應依其喪葬費用保險金額與扣除要保時間在先之保險公司應理賠之金額後所餘之限額比例分擔其責任。\n",
      "Rank 4: 富邦人壽團體傷害保險_身故保險金或喪葬費用保險金的給付, similarity score: 68877.4453125\n",
      "article : \n",
      " 被保險人於本契約有效期間內遭受保單條款第三條約定的意外傷害事故，自意外傷害事故發生之日起一百八十日以內死亡者，本公司按保險金額給付身故保險金。但超過一百八十日死亡者，受益人若能證明被保險人之死亡與該意外傷害事故具有因果關係者，不在此限。訂立本契約時，以受監護宣告尚未撤銷者為被保險人，其身故保險金變更為喪葬費用保險金。前項被保險人於民國九十九年二月三日（含）以後所投保之喪葬費用保險金額總和（不限本公司），不得超過遺產及贈與稅法第十七條有關遺產稅喪葬費扣除額之半數，其超過部分本公司不負給付責任，本公司並應無息退還該超過部分之已繳保險費。前項情形，如要保人向二家（含）以上保險公司投保，或向同一保險公司投保數個保險契(附)約，且其投保之喪葬費用保險金額合計超過所定之限額者，本公司於所承保之喪葬費用金額範圍內，依各要保書所載之要保時間先後，依約給付喪葬費用保險金至前項喪葬費用額度上限為止，如有二家以上保險公司之保險契約要保時間相同或無法區分其要保時間之先後者，各該保險公司應依其喪葬費用保險金額與扣除要保時間在先之保險公司應理賠之金額後所餘之限額比例分擔其責任。\n",
      "Rank 5: 富邦人壽團體意外傷害保險_身故保險金或喪葬費用保險金的給付, similarity score: 69324.578125\n",
      "article : \n",
      " 被保險人於本契約有效期間內遭受條款第五條約定的意外傷害事故，自意外傷害事故發生之日起一百八十日以內死亡者，本公司按保險金額給付身故保險金。但超過一百八十日死亡者，受益人若能證明被保險人之死亡與該意外傷害事故具有因果關係者，不在此限。訂立本契約時，以受監護宣告尚未撤銷者為被保險人，其身故保險金均變更為喪葬費用保險金。前項被保險人於民國九十九年二月三日（含）以後所投保之喪葬費用保險金額總和（不限本公司），不得超過訂立本契約時遺產及贈與稅法第十七條有關遺產稅喪葬費扣除額之半數，其超過部分本公司不負給付責任，本公司並應無息退還該超過部分之已繳保險費。前項情形，如要保人向二家（含）以上保險公司投保，或向同一保險公司投保數個保險契(附)約，且其投保之喪葬費用保險金額合計超過前項所定之限額者，本公司於所承保之喪葬費用金額範圍內，依各要保書所載之要保時間先後，依約給付喪葬費用保險金至前項喪葬費用額度上限為止，如有二家以上保險公司之保險契約要保時間相同或無法區分其要保時間之先後者，各該保險公司應依其喪葬費用保險金額與扣除要保時間在先之保險公司應理賠之金額後所餘之限額比例分擔其責任。\n"
     ]
    }
   ],
   "source": [
    "import faiss\n",
    "import numpy as np\n",
    "import torch\n",
    "from tqdm.auto import tqdm\n",
    "\n",
    "device = torch.device(\"cuda\" if torch.cuda.is_available() else \"cpu\")\n",
    "tokenizer = AutoTokenizer.from_pretrained(\"shibing624/text2vec-base-chinese\")\n",
    "\n",
    "model = AutoModel.from_pretrained(\"shibing624/text2vec-base-chinese\").to(device)\n",
    "\n",
    "### query text here !\n",
    "query_text = \"身故保險金是什麼?\"\n",
    "\n",
    "print(query_text)\n",
    "# 將要比較的句子轉換成dense embedding\n",
    "\n",
    "device = torch.device(\"cuda\" if torch.cuda.is_available() else \"cpu\")\n",
    "tokens = tokenizer(query_text, max_length = 256, padding='max_length', truncation=True, return_tensors=\"pt\").to(device)\n",
    "with torch.no_grad():\n",
    "    query_vec = model(**tokens)[0].cpu().numpy().reshape(-1)\n",
    "\n",
    "# 計算query與向量庫中所有向量的相似度\n",
    "index = faiss.IndexFlatL2(vecs.shape[1])\n",
    "index.add(vecs)\n",
    "distances, indices = index.search(np.array([query_vec]), k=5)\n",
    "\n",
    "# 打印出相似度最高的前5筆資料\n",
    "for i, index in enumerate(indices[0]):\n",
    "    print(f\"Rank {i+1}: {corpus[index]}, similarity score: {distances[0][i]}\")\n",
    "    print(f\"article : \\n {documents.get(corpus[index])}\")"
   ]
  }
 ],
 "metadata": {
  "kernelspec": {
   "display_name": "Python 3",
   "language": "python",
   "name": "python3"
  },
  "language_info": {
   "codemirror_mode": {
    "name": "ipython",
    "version": 3
   },
   "file_extension": ".py",
   "mimetype": "text/x-python",
   "name": "python",
   "nbconvert_exporter": "python",
   "pygments_lexer": "ipython3",
   "version": "3.10.7"
  },
  "orig_nbformat": 4
 },
 "nbformat": 4,
 "nbformat_minor": 2
}
